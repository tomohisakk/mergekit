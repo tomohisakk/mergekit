{
 "cells": [
  {
   "cell_type": "code",
   "execution_count": 3,
   "metadata": {},
   "outputs": [],
   "source": [
    "# !pip install transformers datasets matplotlib\n",
    "from transformers import AutoModelForCausalLM, AutoTokenizer\n",
    "from datasets import load_dataset, DatasetDict\n",
    "import matplotlib.pyplot as plt\n",
    "import numpy as np\n",
    "import torch"
   ]
  },
  {
   "cell_type": "code",
   "execution_count": null,
   "metadata": {},
   "outputs": [],
   "source": [
    "models = {\n",
    "    \"NTQAI/chatntq-ja-7b-v1.0\": None,\n",
    "    \"TFMC/Japanese-Starling-ChatV-7B\": None,\n",
    "    \"Aratako/Antler-7B-RP-v2\": None,\n",
    "    \"final_merge\": \"./workspace/final_merge\"    # マージ後のモデル\n",
    "}\n",
    "tokenizer = AutoTokenizer.from_pretrained(\"meta-llama/Meta-Llama-3-8B-Instruct\")\n",
    "elyza_tasks = load_dataset('elyza/ELYZA-tasks-100', split='test[:10]') \n",
    "\n",
    "def evaluate_model(model_name, model_path):\n",
    "    if model_path is not None:\n",
    "        model = AutoModelForCausalLM.from_pretrained(model_path)\n",
    "    else:\n",
    "        model = AutoModelForCausalLM.from_pretrained(model_name)\n",
    "        \n",
    "    scores = []\n",
    "    \n",
    "    for example in elyza_tasks:\n",
    "        input_text = example['input']\n",
    "        output_text = example['output']\n",
    "        \n",
    "        input_ids = tokenizer.encode(input_text, return_tensors='pt')\n",
    "        \n",
    "        with torch.no_grad():\n",
    "            generated_ids = model.generate(input_ids, max_length=1500, temperature=0.7, do_sample=False)\n",
    "        \n",
    "        generated_text = tokenizer.decode(generated_ids[0], skip_special_tokens=True)\n",
    "        \n",
    "        # OpenAI APIによる評価を模倣 (簡易版スコア: 完全一致 5/部分一致 3/一致しない 1)\n",
    "        if output_text in generated_text:\n",
    "            score = 5\n",
    "        elif any(word in generated_text for word in output_text.split()):\n",
    "            score = 3\n",
    "        else:\n",
    "            score = 1\n",
    "        \n",
    "        scores.append(score)\n",
    "    \n",
    "    # 平均スコアを返す\n",
    "    return np.mean(scores)"
   ]
  },
  {
   "cell_type": "code",
   "execution_count": null,
   "metadata": {},
   "outputs": [],
   "source": [
    "results = {}\n",
    "for model_name, model_path in models.items():\n",
    "    score = evaluate_model(model_name, model_path)\n",
    "    results[model_name] = score\n",
    "    print(f\"{model_name}: {score}\")"
   ]
  },
  {
   "cell_type": "code",
   "execution_count": null,
   "metadata": {},
   "outputs": [],
   "source": [
    "model_names = list(results.keys())\n",
    "scores = list(results.values())\n",
    "\n",
    "plt.figure(figsize=(10, 6))\n",
    "plt.barh(model_names, scores, color='skyblue')\n",
    "plt.xlabel('評価スコア')\n",
    "plt.title('各モデルの評価結果 (Elyza Tasks)')\n",
    "plt.show()"
   ]
  }
 ],
 "metadata": {
  "kernelspec": {
   "display_name": "llm",
   "language": "python",
   "name": "python3"
  },
  "language_info": {
   "codemirror_mode": {
    "name": "ipython",
    "version": 3
   },
   "file_extension": ".py",
   "mimetype": "text/x-python",
   "name": "python",
   "nbconvert_exporter": "python",
   "pygments_lexer": "ipython3",
   "version": "3.11.5"
  }
 },
 "nbformat": 4,
 "nbformat_minor": 2
}
